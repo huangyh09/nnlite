{
 "cells": [
  {
   "cell_type": "markdown",
   "id": "4e18da43-7d51-4d30-a673-c035820e1c2d",
   "metadata": {},
   "source": [
    "# CNN model (1D) for classifying TSS\n",
    "\n",
    "Credit: this notebook is adapted from the [CamoTSS](https://www.nature.com/articles/s41467-023-42636-1) paper and its [Fig. 1D notebook](https://github.com/StatBiomed/CamoTSS/blob/main/notebook/Fig1D_classifier.ipynb), produced by Ruiyan.\n",
    "\n",
    "You may also run it on Google Colab with this link: [CamoTSS-CNN-demo.ipynb](https://colab.research.google.com/github/huangyh09/nnwrapper/blob/main/examples/CamoTSS-CNN-demo.ipynb)"
   ]
  },
  {
   "cell_type": "markdown",
   "id": "7f512a61-33da-4c21-985a-8daab0422ca1",
   "metadata": {},
   "source": [
    "### Load and check data"
   ]
  },
  {
   "cell_type": "code",
   "execution_count": 1,
   "id": "059e42d0-f77c-49a1-a3bd-53bfffcfe855",
   "metadata": {},
   "outputs": [],
   "source": [
    "import numpy as np\n",
    "import pandas as pd"
   ]
  },
  {
   "cell_type": "code",
   "execution_count": 2,
   "id": "030efd2f-0935-49d1-918a-72a3f9257f88",
   "metadata": {},
   "outputs": [],
   "source": [
    "# df = pd.read_csv(\"data/sequence_for_CNN.csv.gz\")\n",
    "\n",
    "df = pd.read_csv(\"https://github.com/huangyh09/nnwrapper/raw/main/examples/\" +\n",
    "                 \"data/sequence_for_CNN.csv.gz\")"
   ]
  },
  {
   "cell_type": "code",
   "execution_count": 3,
   "id": "13a631eb-6f49-4aa2-a747-f2958862a0ca",
   "metadata": {},
   "outputs": [
    {
     "data": {
      "text/html": [
       "<div>\n",
       "<style scoped>\n",
       "    .dataframe tbody tr th:only-of-type {\n",
       "        vertical-align: middle;\n",
       "    }\n",
       "\n",
       "    .dataframe tbody tr th {\n",
       "        vertical-align: top;\n",
       "    }\n",
       "\n",
       "    .dataframe thead th {\n",
       "        text-align: right;\n",
       "    }\n",
       "</style>\n",
       "<table border=\"1\" class=\"dataframe\">\n",
       "  <thead>\n",
       "    <tr style=\"text-align: right;\">\n",
       "      <th></th>\n",
       "      <th>Unnamed: 0</th>\n",
       "      <th>name</th>\n",
       "      <th>sequence</th>\n",
       "      <th>label</th>\n",
       "    </tr>\n",
       "  </thead>\n",
       "  <tbody>\n",
       "    <tr>\n",
       "      <th>0</th>\n",
       "      <td>0</td>\n",
       "      <td>&gt;ENSG00000197530*1615834_1615960&gt;1::chr1:16157...</td>\n",
       "      <td>GCGCAGCGCCGCCGCGGGGCCTCCTGGGAGTTGTGGTCCGGCCACC...</td>\n",
       "      <td>1</td>\n",
       "    </tr>\n",
       "    <tr>\n",
       "      <th>1</th>\n",
       "      <td>1</td>\n",
       "      <td>&gt;ENSG00000197530*1615414_1615557&gt;1::chr1:16153...</td>\n",
       "      <td>GCTCCCGCGTGACGCACTTCCGGTGCTTGCCCTGCCCATCCCCGTG...</td>\n",
       "      <td>1</td>\n",
       "    </tr>\n",
       "    <tr>\n",
       "      <th>2</th>\n",
       "      <td>2</td>\n",
       "      <td>&gt;ENSG00000189409*1632162_1632227&gt;1::chr1:16320...</td>\n",
       "      <td>CGTCTCCCTCCCCCCCACCACACCGGGCTGTAACCCGAGCCGCCGA...</td>\n",
       "      <td>1</td>\n",
       "    </tr>\n",
       "    <tr>\n",
       "      <th>3</th>\n",
       "      <td>3</td>\n",
       "      <td>&gt;ENSG00000157870*2586695_2586903&gt;1::chr1:25866...</td>\n",
       "      <td>CGGGCCCGGGGCGGAGACGAGCCCGAAGGGGCGGGGCCTCGGCGGC...</td>\n",
       "      <td>1</td>\n",
       "    </tr>\n",
       "    <tr>\n",
       "      <th>4</th>\n",
       "      <td>4</td>\n",
       "      <td>&gt;ENSG00000157870*2590553_2590648&gt;0::chr1:25905...</td>\n",
       "      <td>TCACTCTCTCCCACCCCCGGGCAGCTGTTTTGCCCAAGACCACTGC...</td>\n",
       "      <td>0</td>\n",
       "    </tr>\n",
       "    <tr>\n",
       "      <th>...</th>\n",
       "      <td>...</td>\n",
       "      <td>...</td>\n",
       "      <td>...</td>\n",
       "      <td>...</td>\n",
       "    </tr>\n",
       "    <tr>\n",
       "      <th>11213</th>\n",
       "      <td>11213</td>\n",
       "      <td>&gt;ENSG00000126903*154488164_154488273&gt;0::chrX:1...</td>\n",
       "      <td>TATCTTTGTCAACAAGTGTTCGTTTGGGTGCAAAGTGGAACTCGAG...</td>\n",
       "      <td>0</td>\n",
       "    </tr>\n",
       "    <tr>\n",
       "      <th>11214</th>\n",
       "      <td>11214</td>\n",
       "      <td>&gt;ENSG00000126903*154487515_154487677&gt;0::chrX:1...</td>\n",
       "      <td>GCTGCAGCTATCCCTCCGCCGCCTTCAAGCTGACTATGCCTCCCAG...</td>\n",
       "      <td>0</td>\n",
       "    </tr>\n",
       "    <tr>\n",
       "      <th>11215</th>\n",
       "      <td>11215</td>\n",
       "      <td>&gt;ENSG00000126903*154488011_154488159&gt;0::chrX:1...</td>\n",
       "      <td>CACCTGCTCGTCGCCTGGCGGCGGGGGGAGCTACCTCTTCAGCCTC...</td>\n",
       "      <td>0</td>\n",
       "    </tr>\n",
       "    <tr>\n",
       "      <th>11216</th>\n",
       "      <td>11216</td>\n",
       "      <td>&gt;ENSG00000126903*154488277_154488425&gt;0::chrX:1...</td>\n",
       "      <td>CTGAAGACACGCCTGCCACCCTCAGCGCCGACCTGGCCCACTTCTC...</td>\n",
       "      <td>0</td>\n",
       "    </tr>\n",
       "    <tr>\n",
       "      <th>11217</th>\n",
       "      <td>11217</td>\n",
       "      <td>&gt;ENSG00000126903*154488565_154488730&gt;0::chrX:1...</td>\n",
       "      <td>ATCTCCAGCCAGTACCCAGGCCAGGCCAACAGGACGGCGCCTGGCC...</td>\n",
       "      <td>0</td>\n",
       "    </tr>\n",
       "  </tbody>\n",
       "</table>\n",
       "<p>11218 rows × 4 columns</p>\n",
       "</div>"
      ],
      "text/plain": [
       "       Unnamed: 0                                               name  \\\n",
       "0               0  >ENSG00000197530*1615834_1615960>1::chr1:16157...   \n",
       "1               1  >ENSG00000197530*1615414_1615557>1::chr1:16153...   \n",
       "2               2  >ENSG00000189409*1632162_1632227>1::chr1:16320...   \n",
       "3               3  >ENSG00000157870*2586695_2586903>1::chr1:25866...   \n",
       "4               4  >ENSG00000157870*2590553_2590648>0::chr1:25905...   \n",
       "...           ...                                                ...   \n",
       "11213       11213  >ENSG00000126903*154488164_154488273>0::chrX:1...   \n",
       "11214       11214  >ENSG00000126903*154487515_154487677>0::chrX:1...   \n",
       "11215       11215  >ENSG00000126903*154488011_154488159>0::chrX:1...   \n",
       "11216       11216  >ENSG00000126903*154488277_154488425>0::chrX:1...   \n",
       "11217       11217  >ENSG00000126903*154488565_154488730>0::chrX:1...   \n",
       "\n",
       "                                                sequence  label  \n",
       "0      GCGCAGCGCCGCCGCGGGGCCTCCTGGGAGTTGTGGTCCGGCCACC...      1  \n",
       "1      GCTCCCGCGTGACGCACTTCCGGTGCTTGCCCTGCCCATCCCCGTG...      1  \n",
       "2      CGTCTCCCTCCCCCCCACCACACCGGGCTGTAACCCGAGCCGCCGA...      1  \n",
       "3      CGGGCCCGGGGCGGAGACGAGCCCGAAGGGGCGGGGCCTCGGCGGC...      1  \n",
       "4      TCACTCTCTCCCACCCCCGGGCAGCTGTTTTGCCCAAGACCACTGC...      0  \n",
       "...                                                  ...    ...  \n",
       "11213  TATCTTTGTCAACAAGTGTTCGTTTGGGTGCAAAGTGGAACTCGAG...      0  \n",
       "11214  GCTGCAGCTATCCCTCCGCCGCCTTCAAGCTGACTATGCCTCCCAG...      0  \n",
       "11215  CACCTGCTCGTCGCCTGGCGGCGGGGGGAGCTACCTCTTCAGCCTC...      0  \n",
       "11216  CTGAAGACACGCCTGCCACCCTCAGCGCCGACCTGGCCCACTTCTC...      0  \n",
       "11217  ATCTCCAGCCAGTACCCAGGCCAGGCCAACAGGACGGCGCCTGGCC...      0  \n",
       "\n",
       "[11218 rows x 4 columns]"
      ]
     },
     "execution_count": 3,
     "metadata": {},
     "output_type": "execute_result"
    }
   ],
   "source": [
    "df"
   ]
  },
  {
   "cell_type": "code",
   "execution_count": 4,
   "id": "d8abea69-cda4-4268-a1f8-daf2685d4e6d",
   "metadata": {},
   "outputs": [
    {
     "data": {
      "text/plain": [
       "(array([0, 1]), array([5616, 5602]))"
      ]
     },
     "execution_count": 4,
     "metadata": {},
     "output_type": "execute_result"
    }
   ],
   "source": [
    "np.unique(df['label'], return_counts=True)"
   ]
  },
  {
   "cell_type": "code",
   "execution_count": 5,
   "id": "2d37c461-32c0-44d2-a33d-bc94fb50bb2f",
   "metadata": {},
   "outputs": [
    {
     "data": {
      "text/plain": [
       "(array([200]), array([11218]))"
      ]
     },
     "execution_count": 5,
     "metadata": {},
     "output_type": "execute_result"
    }
   ],
   "source": [
    "np.unique([len(x) for x in df['sequence']], return_counts=True)"
   ]
  },
  {
   "cell_type": "code",
   "execution_count": 6,
   "id": "08e3670a-39b1-457c-b325-833042d4890c",
   "metadata": {},
   "outputs": [],
   "source": [
    "def SeqCoder(seq):\n",
    "    BASE_CODER = {\"A\": [1, 0, 0, 0], \"C\": [0, 1, 0, 0], \"G\": [0, 0, 1, 0], \"T\": [0, 0, 0, 1]}\n",
    "    onehot_seq = [BASE_CODER[x] for x in seq]\n",
    "    onehot_seq = np.array(onehot_seq).T\n",
    "    return onehot_seq"
   ]
  },
  {
   "cell_type": "code",
   "execution_count": 7,
   "id": "06a28479-1c7b-459d-a991-e1e2f9fc7ce7",
   "metadata": {},
   "outputs": [],
   "source": [
    "onehot_seqls = [SeqCoder(x) for x in df['sequence']]\n",
    "onehot_array = np.array(onehot_seqls)"
   ]
  },
  {
   "cell_type": "code",
   "execution_count": 8,
   "id": "7f3856d0-69a0-4072-a0b8-911d8190f720",
   "metadata": {},
   "outputs": [
    {
     "data": {
      "text/plain": [
       "(array([[0, 0, 1, 0],\n",
       "        [0, 1, 0, 0],\n",
       "        [0, 0, 1, 0],\n",
       "        [0, 1, 0, 0],\n",
       "        [1, 0, 0, 0],\n",
       "        [0, 0, 1, 0],\n",
       "        [0, 1, 0, 0],\n",
       "        [0, 0, 1, 0],\n",
       "        [0, 1, 0, 0],\n",
       "        [0, 1, 0, 0]]),\n",
       " (11218, 4, 200))"
      ]
     },
     "execution_count": 8,
     "metadata": {},
     "output_type": "execute_result"
    }
   ],
   "source": [
    "onehot_seqls[0].T[:10, :], onehot_array.shape"
   ]
  },
  {
   "cell_type": "code",
   "execution_count": null,
   "id": "f9aa9149-cd5f-4db7-b1ab-435154e793a8",
   "metadata": {},
   "outputs": [],
   "source": []
  },
  {
   "cell_type": "markdown",
   "id": "295114ff-d9ca-4e35-a8f6-e41d1e3bc50e",
   "metadata": {},
   "source": [
    "### Baseline models\n",
    "Directly use the sequence as features to classify the TSS\n",
    "\n",
    "To install `hilearn`: `pip install -U hilearn`"
   ]
  },
  {
   "cell_type": "code",
   "execution_count": 9,
   "id": "9f610efe-eabd-4250-bcba-4a193f4c7b34",
   "metadata": {},
   "outputs": [
    {
     "data": {
      "image/png": "[encoded data removed]",
      "text/plain": [
       "<Figure size 360x280 with 1 Axes>"
      ]
     },
     "metadata": {},
     "output_type": "display_data"
    }
   ],
   "source": [
    "import matplotlib.pyplot as plt\n",
    "from sklearn import linear_model\n",
    "from sklearn.ensemble import RandomForestClassifier\n",
    "\n",
    "from hilearn import ROC_plot, CrossValidation\n",
    "\n",
    "LogisticRegression = linear_model.LogisticRegression(solver='lbfgs')\n",
    "RF_class = RandomForestClassifier(n_estimators=100, n_jobs=-1)\n",
    "\n",
    "X1 = onehot_array.reshape(-1, 800)\n",
    "Y1 = df['label'].values\n",
    "\n",
    "CV = CrossValidation(X1, Y1)\n",
    "Y1_pre, Y1_score = CV.cv_classification(model=RF_class, folds=10)\n",
    "Y2_pre, Y2_score = CV.cv_classification(model=LogisticRegression, folds=10)\n",
    "\n",
    "fig = plt.figure(figsize=(4.5, 3.5), dpi=80)\n",
    "ROC_plot(Y1, Y1_score[:,1], legend_label=\"Random Forest\", threshold=0.5, base_line=False)\n",
    "ROC_plot(Y1, Y2_score[:,1], legend_label=\"Logistic Regress\", threshold=0.5)\n",
    "plt.title(\"ROC curve for classification\")\n",
    "\n",
    "# fig.savefig(\"cv_classification.pdf\", dpi=300, bbox_inches='tight')\n",
    "plt.show()"
   ]
  },
  {
   "cell_type": "code",
   "execution_count": null,
   "id": "5e82f756-2ce1-4e08-8054-5b572d6a2dce",
   "metadata": {},
   "outputs": [],
   "source": []
  },
  {
   "cell_type": "markdown",
   "id": "3013f21d-c97e-4660-9b73-0a6bcbc0964f",
   "metadata": {},
   "source": [
    "### 1D CNN model"
   ]
  },
  {
   "cell_type": "code",
   "execution_count": 10,
   "id": "77dff045-6e29-4723-a3a2-2031dfcd990b",
   "metadata": {},
   "outputs": [
    {
     "name": "stderr",
     "output_type": "stream",
     "text": [
      "/mnt/yuanhua/nfs_share/anaconda3/envs/PyTch/lib/python3.9/site-packages/tqdm/auto.py:22: TqdmWarning: IProgress not found. Please update jupyter and ipywidgets. See https://ipywidgets.readthedocs.io/en/stable/user_install.html\n",
      "  from .autonotebook import tqdm as notebook_tqdm\n"
     ]
    }
   ],
   "source": [
    "import os\n",
    "import torch\n",
    "import torch.nn as nn\n",
    "import torch.optim as optim\n",
    "from torch.utils.data import Dataset, DataLoader\n",
    "from sklearn.model_selection import train_test_split"
   ]
  },
  {
   "cell_type": "code",
   "execution_count": 11,
   "id": "5b5eaa01-ba2a-43a6-b87c-36b31ac2f562",
   "metadata": {},
   "outputs": [],
   "source": [
    "X1 = onehot_array.astype(np.float32)\n",
    "Y1 = df['label'].values.reshape(-1, 1)\n",
    "Y1 = np.concatenate([1 - Y1, Y1], axis=1) \n",
    "\n",
    "X_train, X_test, y_train, y_test = train_test_split(\n",
    "    X1, Y1, test_size=0.2,random_state=666,shuffle=True\n",
    ")\n",
    "\n",
    "X_train, X_valid, y_train, y_valid = train_test_split(\n",
    "    X_train, y_train, test_size=0.25, random_state=666, shuffle=True\n",
    ")"
   ]
  },
  {
   "cell_type": "code",
   "execution_count": 12,
   "id": "53076b33-f886-4cfc-9aa2-e762e3c30c97",
   "metadata": {},
   "outputs": [],
   "source": [
    "from torch import Tensor\n",
    "from torch.utils.data import TensorDataset, DataLoader\n",
    "\n",
    "train_data = TensorDataset(Tensor(X_train), Tensor(y_train))\n",
    "valid_data = TensorDataset(Tensor(X_valid), Tensor(y_valid))\n",
    "test_data  = TensorDataset(Tensor(X_test), Tensor(y_test))"
   ]
  },
  {
   "cell_type": "code",
   "execution_count": 13,
   "id": "53cbe1fd-f9eb-47e0-865b-7474b9d8c399",
   "metadata": {},
   "outputs": [],
   "source": [
    "train_loader = DataLoader(train_data, batch_size=256, shuffle=True, drop_last=True)\n",
    "valid_loader = DataLoader(valid_data, batch_size=256, shuffle=False)\n",
    "test_loader  = DataLoader(test_data,  batch_size=256, shuffle=False)"
   ]
  },
  {
   "cell_type": "code",
   "execution_count": 14,
   "id": "b879e457-5667-4b29-8fe5-1c783c08418c",
   "metadata": {},
   "outputs": [
    {
     "data": {
      "text/plain": [
       "((6730, 4, 200), 6730)"
      ]
     },
     "execution_count": 14,
     "metadata": {},
     "output_type": "execute_result"
    }
   ],
   "source": [
    "X_train.shape, len(train_loader.dataset)"
   ]
  },
  {
   "cell_type": "markdown",
   "id": "00b58f04-cf74-4724-8a4e-597cf61128e3",
   "metadata": {},
   "source": [
    "#### Model\n",
    "Set up model with the torch.nn module and train it with nnwrapper"
   ]
  },
  {
   "cell_type": "code",
   "execution_count": 15,
   "id": "a67722a9-6fa9-4e4d-8842-e4992bfe76bb",
   "metadata": {},
   "outputs": [],
   "source": [
    "class Net(nn.Module):\n",
    "    def __init__(self):\n",
    "        super(Net, self).__init__()\n",
    "        self.conv = nn.Sequential(\n",
    "            nn.Conv1d(4, 128, 8),\n",
    "            nn.ReLU(),\n",
    "            nn.Conv1d(128, 64, 4),\n",
    "            nn.ReLU(),\n",
    "            nn.BatchNorm1d(64),\n",
    "            nn.MaxPool2d(2),\n",
    "            nn.Dropout(0.4),\n",
    "            nn.Flatten(),\n",
    "            nn.Linear(3040, 32),\n",
    "            nn.ReLU(),\n",
    "        )\n",
    "        self.fc = nn.Sequential(\n",
    "            nn.Linear(32, 2),\n",
    "            nn.Sigmoid()\n",
    "        )\n",
    "        \n",
    "    def forward(self, x):\n",
    "        x = self.conv(x)\n",
    "        x = self.fc(x)\n",
    "        return x"
   ]
  },
  {
   "cell_type": "markdown",
   "id": "52f38032-a245-4ee3-9128-28dc978ce1cf",
   "metadata": {},
   "source": [
    "To install `nnwrapper`: \n",
    "- `pip install -U git+https://github.com/huangyh09/nnwrapper`"
   ]
  },
  {
   "cell_type": "code",
   "execution_count": 16,
   "id": "808b8308-de4c-42aa-8084-c47f0d2831a7",
   "metadata": {},
   "outputs": [
    {
     "name": "stderr",
     "output_type": "stream",
     "text": [
      "100%|█████████████████████████████████████████| 200/200 [00:23<00:00,  8.55it/s]\n"
     ]
    }
   ],
   "source": [
    "from nnwrapper import NNWrapper\n",
    "\n",
    "model = Net()\n",
    "criterion = nn.CrossEntropyLoss()\n",
    "# optimizer = optim.Adam(model.parameters(), lr=0.001)\n",
    "optimizer = optim.SGD(model.parameters(), lr=0.003, momentum=0.8)\n",
    "\n",
    "dev = 'cuda:0' if torch.cuda.is_available() else 'cpu'\n",
    "my_wrapper = NNWrapper(model, criterion, optimizer, device=dev)\n",
    "my_wrapper.fit(train_loader, epoch=200, validation_loader=valid_loader, verbose=False)"
   ]
  },
  {
   "cell_type": "code",
   "execution_count": 17,
   "id": "b27edf91-1686-4dab-8e9a-a855a4f5a670",
   "metadata": {},
   "outputs": [
    {
     "data": {
      "text/plain": [
       "[<matplotlib.lines.Line2D at 0x7feacc83b100>]"
      ]
     },
     "execution_count": 17,
     "metadata": {},
     "output_type": "execute_result"
    },
    {
     "data": {
      "image/png": "[encoded data removed]",
      "text/plain": [
       "<Figure size 640x480 with 1 Axes>"
      ]
     },
     "metadata": {},
     "output_type": "display_data"
    }
   ],
   "source": [
    "plt.plot(my_wrapper.train_losses)\n",
    "plt.plot(my_wrapper.valid_losses)"
   ]
  },
  {
   "cell_type": "markdown",
   "id": "77c57f89-1845-49b0-a60a-3840628dfe9d",
   "metadata": {},
   "source": [
    "#### More evaluation on test set (you can also try validation set)"
   ]
  },
  {
   "cell_type": "code",
   "execution_count": 18,
   "id": "800796db-954d-4b1e-bb87-a36988f4be01",
   "metadata": {},
   "outputs": [
    {
     "data": {
      "text/plain": [
       "(0.9090909090909091, 0.9633208298380741)"
      ]
     },
     "execution_count": 18,
     "metadata": {},
     "output_type": "execute_result"
    }
   ],
   "source": [
    "y_obs  = torch.cat([y for x, y in test_loader])\n",
    "\n",
    "y_pred, val_loss = my_wrapper.predict(test_loader)\n",
    "\n",
    "acc, auc, confu  = my_wrapper.evaluate(y_pred, y_obs)\n",
    "acc, auc"
   ]
  },
  {
   "cell_type": "code",
   "execution_count": 19,
   "id": "9169713e-717f-4d3c-b06d-7d68480b3dd2",
   "metadata": {},
   "outputs": [
    {
     "data": {
      "image/png": "[encoded data removed]",
      "text/plain": [
       "<Figure size 360x280 with 1 Axes>"
      ]
     },
     "metadata": {},
     "output_type": "display_data"
    }
   ],
   "source": [
    "y_scores = y_pred[:, 1].cpu().data.numpy() \n",
    "y_obs    = y_obs[:, 1].cpu().data.numpy()\n",
    "\n",
    "fig = plt.figure(figsize=(4.5, 3.5), dpi=80)\n",
    "ROC_plot(y_obs, y_scores, legend_label=\"CNN\", threshold=0.5, base_line=True)\n",
    "plt.title(\"ROC curve for classification\")\n",
    "\n",
    "# fig.savefig(\"cv_classification.pdf\", dpi=300, bbox_inches='tight')\n",
    "plt.show()"
   ]
  },
  {
   "cell_type": "code",
   "execution_count": null,
   "id": "f0ca69ec-22f9-4128-b111-71b34f238a8e",
   "metadata": {},
   "outputs": [],
   "source": []
  }
 ],
 "metadata": {
  "kernelspec": {
   "display_name": "PyTch",
   "language": "python",
   "name": "myenv"
  },
  "language_info": {
   "codemirror_mode": {
    "name": "ipython",
    "version": 3
   },
   "file_extension": ".py",
   "mimetype": "text/x-python",
   "name": "python",
   "nbconvert_exporter": "python",
   "pygments_lexer": "ipython3",
   "version": "3.9.13"
  }
 },
 "nbformat": 4,
 "nbformat_minor": 5
}
